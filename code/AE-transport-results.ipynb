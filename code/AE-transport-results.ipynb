{
 "cells": [
  {
   "cell_type": "markdown",
   "metadata": {},
   "source": [
    "<a id='top-page'></a>\n",
    "\n",
    "# Visualizing the results of running the [`AE-transport.py`](../code/AE-transport.py) script\n",
    "\n",
    "- [Upload the results](#load-results)\n",
    "- [Load the training data](#load-data)\n",
    "- [Compute the low-dimensional manifold parameters](#PCA)\n",
    "- [Compute the *a priori* closure model assessments](#closure-model-assessment)\n",
    "- [Visualize the numerical solution](#visualize-numerical-solution)\n",
    "- [Visualize the transported trajectories](#visualize-trajectories)\n",
    "- [Visualize the *a posteriori* predictions of the projected source terms](#visualize-source-terms)\n",
    "- [Visualize the predicted thermo-chemical state variables](#visualize-thermo-chemistry)\n",
    "- [Assess the thermo-chemistry prediction](#assess-thermo-chemistry-prediction)\n",
    "\n",
    "***"
   ]
  },
  {
   "cell_type": "code",
   "execution_count": null,
   "metadata": {},
   "outputs": [],
   "source": [
    "import numpy as np\n",
    "import pandas as pd\n",
    "\n",
    "import matplotlib\n",
    "import matplotlib.pyplot as plt\n",
    "\n",
    "from PCAfold import preprocess\n",
    "from PCAfold import reduction\n",
    "from PCAfold import analysis\n",
    "from PCAfold.styles import *\n",
    "\n",
    "%matplotlib inline"
   ]
  },
  {
   "cell_type": "code",
   "execution_count": null,
   "metadata": {},
   "outputs": [],
   "source": [
    "color_rbf = '#f09863'\n",
    "color_gpr = '#ff5555'\n",
    "color_ann = '#1c8aa9'\n",
    "color_kreg = '#0e3a61'\n",
    "\n",
    "data_tag = 'CO-H2-10-1-isobaric-adiabatic-closed-HR'\n",
    "data_path = '../data/'\n",
    "results_path = '../results/'\n",
    "species_to_remove_list = ['N2', 'AR', 'HE']\n",
    "sample_percentage = 100\n",
    "random_seed = 100\n",
    "n_components = 2\n",
    "scaling = '0to1'\n",
    "run_RBF = True\n",
    "run_GPR = False\n",
    "run_ANN = True\n",
    "run_KReg = True\n",
    "reconstruct_thermochemistry = True\n",
    "start_simulation = 120\n",
    "n_points = 2000\n",
    "max_simulation_time = 0.005"
   ]
  },
  {
   "cell_type": "markdown",
   "metadata": {},
   "source": [
    "<a id='load-results'></a>\n",
    "***\n",
    "\n",
    "## Upload the results\n",
    "\n",
    "[Go to the top ↑](#top-page)"
   ]
  },
  {
   "cell_type": "code",
   "execution_count": null,
   "metadata": {},
   "outputs": [],
   "source": [
    "if run_RBF:\n",
    "    AE_source_terms_predicted_rbf = pd.read_csv(results_path + 'best-AE-RBF-predicted-source-terms.csv', sep = ',', header=None).to_numpy()\n",
    "    numerical_solution_rbf_model = pd.read_csv(results_path + 'best-AE-RBF-numerical-solution.csv', sep = ',', header=None).to_numpy()\n",
    "    AE_source_terms_from_numerical_solution_rbf = pd.read_csv(results_path + 'best-AE-RBF-AE-source-terms-from-numerical-solution.csv', sep = ',', header=None).to_numpy()\n",
    "\n",
    "if run_GPR:\n",
    "    AE_source_terms_predicted_gpr = pd.read_csv(results_path + 'best-AE-GPR-predicted-source-terms.csv', sep = ',', header=None).to_numpy()\n",
    "    numerical_solution_gpr_model = pd.read_csv(results_path + 'best-AE-GPR-numerical-solution.csv', sep = ',', header=None).to_numpy()\n",
    "    AE_source_terms_from_numerical_solution_gpr = pd.read_csv(results_path + 'best-AE-GPR-AE-source-terms-from-numerical-solution.csv', sep = ',', header=None).to_numpy()\n",
    "\n",
    "if run_ANN:\n",
    "    AE_source_terms_predicted_ann = pd.read_csv(results_path + 'best-AE-ANN-predicted-source-terms.csv', sep = ',', header=None).to_numpy()\n",
    "    numerical_solution_ann_model = pd.read_csv(results_path + 'best-AE-ANN-numerical-solution.csv', sep = ',', header=None).to_numpy()\n",
    "    AE_source_terms_from_numerical_solution_ann = pd.read_csv(results_path + 'best-AE-ANN-AE-source-terms-from-numerical-solution.csv', sep = ',', header=None).to_numpy()\n",
    "\n",
    "if run_KReg:\n",
    "    AE_source_terms_predicted_kreg = pd.read_csv(results_path + 'best-AE-KReg-predicted-source-terms.csv', sep = ',', header=None).to_numpy()\n",
    "    numerical_solution_kreg_model = pd.read_csv(results_path + 'best-AE-KReg-numerical-solution.csv', sep = ',', header=None).to_numpy()\n",
    "    AE_source_terms_from_numerical_solution_kreg = pd.read_csv(results_path + 'best-AE-KReg-AE-source-terms-from-numerical-solution.csv', sep = ',', header=None).to_numpy()\n",
    "\n",
    "if reconstruct_thermochemistry:\n",
    "    \n",
    "    if run_RBF: state_space_ROM_predicted_rbf = pd.read_csv(results_path + 'best-AE-RBF-predicted-state-space.csv', sep = ',', header=None).to_numpy()\n",
    "    if run_GPR: state_space_ROM_predicted_gpr = pd.read_csv(results_path + 'best-AE-GPR-predicted-state-space.csv', sep = ',', header=None).to_numpy()\n",
    "    if run_ANN: state_space_ROM_predicted_ann = pd.read_csv(results_path + 'best-AE-ANN-predicted-state-space.csv', sep = ',', header=None).to_numpy()\n",
    "    if run_KReg: state_space_ROM_predicted_kreg = pd.read_csv(results_path + 'best-AE-KReg-predicted-state-space.csv', sep = ',', header=None).to_numpy()"
   ]
  },
  {
   "cell_type": "markdown",
   "metadata": {},
   "source": [
    "<a id='load-data'></a>\n",
    "***\n",
    "\n",
    "## Load the training data\n",
    "\n",
    "[Go to the top ↑](#top-page)"
   ]
  },
  {
   "cell_type": "code",
   "execution_count": null,
   "metadata": {},
   "outputs": [],
   "source": [
    "state_space_names = pd.read_csv(data_path + data_tag + '-state-space-names.csv', sep = ',', header=None).to_numpy().ravel()\n",
    "state_space = pd.read_csv(data_path + data_tag + '-state-space.csv', sep = ',', header=None).to_numpy()\n",
    "state_space_sources = pd.read_csv(data_path + data_tag + '-state-space-sources.csv', sep = ',', header=None).to_numpy()\n",
    "mixture_fraction = pd.read_csv(data_path + data_tag + '-mixture-fraction.csv', sep = ',', header=None).to_numpy()\n",
    "time_grid = pd.read_csv(data_path + data_tag + '-time.csv', sep = ',', header=None).to_numpy().ravel()\n",
    "\n",
    "state_space_test_trajectory = pd.read_csv(data_path + data_tag + '-state-space-test-trajectory.csv', sep = ',', header=None).to_numpy()\n",
    "state_space_sources_test_trajectory = pd.read_csv(data_path + data_tag + '-state-space-sources-test-trajectory.csv', sep = ',', header=None).to_numpy()\n",
    "time_grid_test_trajectory = pd.read_csv(data_path + data_tag + '-time-test-trajectory.csv', sep = ',', header=None).to_numpy().ravel()\n",
    "\n",
    "state_space_support_trajectories = pd.read_csv(data_path + data_tag + '-state-space-support-trajectories.csv', sep = ',', header=None).to_numpy()\n",
    "state_space_sources_support_trajectories = pd.read_csv(data_path + data_tag + '-state-space-sources-support-trajectories.csv', sep = ',', header=None).to_numpy()\n",
    "time_grid_support_trajectories = pd.read_csv(data_path + data_tag + '-time-support-trajectories.csv', sep = ',', header=None).to_numpy().ravel()\n",
    "\n",
    "for species_to_remove in species_to_remove_list:\n",
    "\n",
    "    (species_index, ) = np.where(state_space_names==species_to_remove)\n",
    "    if len(species_index) != 0:\n",
    "        print('Removing ' + state_space_names[int(species_index)] + '.')\n",
    "        state_space = np.delete(state_space, np.s_[species_index], axis=1)\n",
    "        state_space_sources = np.delete(state_space_sources, np.s_[species_index], axis=1)\n",
    "\n",
    "        state_space_test_trajectory = np.delete(state_space_test_trajectory, np.s_[species_index], axis=1)\n",
    "        state_space_sources_test_trajectory = np.delete(state_space_sources_test_trajectory, np.s_[species_index], axis=1)\n",
    "\n",
    "        state_space_support_trajectories = np.delete(state_space_support_trajectories, np.s_[species_index], axis=1)\n",
    "        state_space_sources_support_trajectories = np.delete(state_space_sources_support_trajectories, np.s_[species_index], axis=1)\n",
    "\n",
    "        state_space_names = np.delete(state_space_names, np.s_[species_index])\n",
    "    else:\n",
    "        print(species_to_remove + ' already removed from the data set.')\n",
    "\n",
    "(n_observations, n_variables) = np.shape(state_space)\n",
    "\n",
    "if sample_percentage == 100:\n",
    "    sample_data = False\n",
    "else:\n",
    "    sample_data = True\n",
    "\n",
    "if sample_data:\n",
    "    idx = np.zeros((n_observations,)).astype(int)\n",
    "    sample_random = preprocess.DataSampler(idx, random_seed=random_seed, verbose=False)\n",
    "    (idx_sample, _) = sample_random.random(sample_percentage)\n",
    "\n",
    "    state_space = state_space[idx_sample,:]\n",
    "    state_space_sources = state_space_sources[idx_sample,:]\n",
    "    mf = mf[idx_sample,:]\n",
    "\n",
    "    (n_observations, n_variables) = np.shape(state_space)\n",
    "\n",
    "print('\\nThe data set has ' + str(n_observations) + ' observations.')"
   ]
  },
  {
   "cell_type": "markdown",
   "metadata": {},
   "source": [
    "<a id='PCA'></a>\n",
    "***\n",
    "\n",
    "## Compute the low-dimensional manifold parameters\n",
    "\n",
    "[Go to the top ↑](#top-page)"
   ]
  },
  {
   "cell_type": "code",
   "execution_count": null,
   "metadata": {},
   "outputs": [],
   "source": [
    "AE_basis = np.array([[ 0.44541207, -0.53351498],\n",
    "       [ 0.21240635,  0.03709494],\n",
    "       [ 0.23040931,  0.0683625 ],\n",
    "       [ 0.04429741,  0.27895769],\n",
    "       [ 0.17797215,  0.02717828],\n",
    "       [-0.77823412, -0.22460838],\n",
    "       [ 0.01838836,  0.13045858],\n",
    "       [-0.06177867, -0.02877426],\n",
    "       [-0.22748888,  0.42358291],\n",
    "       [ 0.02015193, -0.61245435],\n",
    "       [-0.08835387, -0.08909094]])\n",
    "\n",
    "(X_CS, centers, scales) = preprocess.center_scale(state_space, scaling=scaling)\n",
    "S_CS = state_space_sources / scales\n",
    "\n",
    "state_space_test_trajectory_CS = (state_space_test_trajectory - centers)/scales\n",
    "state_space_sources_test_trajectory_CS = state_space_sources_test_trajectory / scales\n",
    "\n",
    "state_space_support_trajectories_CS = (state_space_support_trajectories - centers)/scales\n",
    "state_space_sources_support_trajectories_CS = state_space_sources_support_trajectories / scales\n",
    "\n",
    "X_AE = np.dot(X_CS, AE_basis)\n",
    "S_AE = np.dot(S_CS, AE_basis)\n",
    "\n",
    "X_AE_CS, center_AE, scale_AE = preprocess.center_scale(X_AE, scaling='-1to1')\n",
    "\n",
    "AE_state_space_test_trajectory = np.dot(state_space_test_trajectory_CS, AE_basis)\n",
    "AE_state_space_test_trajectory_CS = (AE_state_space_test_trajectory - center_AE) / scale_AE\n",
    "AE_source_terms_test_trajectory = np.dot(state_space_sources_test_trajectory_CS, AE_basis)\n",
    "\n",
    "AE_state_space_support_trajectories = np.dot(state_space_support_trajectories_CS, AE_basis)\n",
    "AE_state_space_support_trajectories_CS = (AE_state_space_support_trajectories - center_AE) / scale_AE\n",
    "AE_source_terms_support_trajectories = np.dot(state_space_sources_support_trajectories_CS, AE_basis)\n",
    "\n",
    "AE_source_terms_support_trajectories_CS, centers_AE_source_terms, scales_AE_source_terms = preprocess.center_scale(AE_source_terms_support_trajectories, scaling='-1to1')\n",
    "\n",
    "(n_observations, _) = AE_state_space_support_trajectories.shape"
   ]
  },
  {
   "cell_type": "code",
   "execution_count": null,
   "metadata": {},
   "outputs": [],
   "source": [
    "AE_initial_condition = AE_state_space_test_trajectory[start_simulation,:]\n",
    "t_coordinates = np.linspace(time_grid_test_trajectory[start_simulation],max_simulation_time,n_points)"
   ]
  },
  {
   "cell_type": "markdown",
   "metadata": {},
   "source": [
    "<a id='closure-model-assessment'></a>\n",
    "***\n",
    "\n",
    "## Compute the *a priori* closure model assessments\n",
    "\n",
    "[Go to the top ↑](#top-page)"
   ]
  },
  {
   "cell_type": "code",
   "execution_count": null,
   "metadata": {},
   "outputs": [],
   "source": [
    "if run_RBF:\n",
    "    RBF_metrics = analysis.RegressionAssessment(AE_source_terms_test_trajectory, AE_source_terms_predicted_rbf, variable_names=['$S_{\\eta, 1}$', '$S_{\\eta, 2}$'])\n",
    "    RBF_metrics.print_metrics(table_format=['pandas'], float_format='.8f', metrics=['R2', 'MSLE', 'NRMSE', 'GDE'])"
   ]
  },
  {
   "cell_type": "code",
   "execution_count": null,
   "metadata": {},
   "outputs": [],
   "source": [
    "if run_GPR:\n",
    "    GPR_metrics = analysis.RegressionAssessment(AE_source_terms_test_trajectory, AE_source_terms_predicted_gpr, variable_names=['$S_{\\eta, 1}$', '$S_{\\eta, 2}$'])\n",
    "    GPR_metrics.print_metrics(table_format=['pandas'], float_format='.8f', metrics=['R2', 'MSLE', 'NRMSE', 'GDE'])"
   ]
  },
  {
   "cell_type": "code",
   "execution_count": null,
   "metadata": {},
   "outputs": [],
   "source": [
    "if run_ANN:\n",
    "    ANN_metrics = analysis.RegressionAssessment(AE_source_terms_test_trajectory, AE_source_terms_predicted_ann, variable_names=['$S_{\\eta, 1}$', '$S_{\\eta, 2}$'])\n",
    "    ANN_metrics.print_metrics(table_format=['pandas'], float_format='.8f', metrics=['R2', 'MSLE', 'NRMSE', 'GDE'])"
   ]
  },
  {
   "cell_type": "code",
   "execution_count": null,
   "metadata": {},
   "outputs": [],
   "source": [
    "if run_KReg:\n",
    "    KReg_metrics = analysis.RegressionAssessment(AE_source_terms_test_trajectory, AE_source_terms_predicted_kreg, variable_names=['$S_{\\eta, 1}$', '$S_{\\eta, 2}$'])\n",
    "    KReg_metrics.print_metrics(table_format=['pandas'], float_format='.8f', metrics=['R2', 'MSLE', 'NRMSE', 'GDE'])"
   ]
  },
  {
   "cell_type": "markdown",
   "metadata": {},
   "source": [
    "<a id='visualize-numerical-solution'></a>\n",
    "***\n",
    "\n",
    "## Visualize the numerical solution\n",
    "\n",
    "[Go to the top ↑](#top-page)"
   ]
  },
  {
   "cell_type": "code",
   "execution_count": null,
   "metadata": {},
   "outputs": [],
   "source": [
    "plt.figure(figsize=(18,4))\n",
    "\n",
    "plt.semilogx(time_grid_test_trajectory, AE_state_space_test_trajectory[:,0], 'k--', lw=5, zorder=5)\n",
    "plt.xlim([10**-4,10**-2])\n",
    "\n",
    "if run_RBF: plt.semilogx(t_coordinates, numerical_solution_rbf_model[:,0], '-', lw=2, color=color_rbf, zorder=40)\n",
    "if run_GPR: plt.semilogx(t_coordinates, numerical_solution_gpr_model[:,0], '-', lw=3, color=color_gpr, zorder=30)\n",
    "if run_ANN: plt.semilogx(t_coordinates, numerical_solution_ann_model[:,0], '-', lw=4, color=color_ann, zorder=20)\n",
    "if run_KReg: plt.semilogx(t_coordinates, numerical_solution_kreg_model[:,0], '-', lw=5, color=color_kreg, zorder=10)\n",
    "\n",
    "plt.xlabel('Time, [$s$]', fontsize=20)\n",
    "plt.ylabel('$Z_{1}$', fontsize=20, rotation=0, horizontalalignment='right')\n",
    "plt.grid(alpha=0.3, zorder=1);\n",
    "plt.savefig(results_path + 'best-AE-a-posteriori-Z1-path.png', dpi=300, bbox_inches='tight')"
   ]
  },
  {
   "cell_type": "code",
   "execution_count": null,
   "metadata": {},
   "outputs": [],
   "source": [
    "plt.figure(figsize=(18,4))\n",
    "\n",
    "plt.semilogx(time_grid_test_trajectory, AE_state_space_test_trajectory[:,1], 'k--', lw=5, zorder=5)\n",
    "plt.xlim([10**-4,10**-2])\n",
    "\n",
    "if run_RBF: plt.semilogx(t_coordinates, numerical_solution_rbf_model[:,1], '-', lw=2, color=color_rbf, zorder=40)\n",
    "if run_GPR: plt.semilogx(t_coordinates, numerical_solution_gpr_model[:,1], '-', lw=3, color=color_gpr, zorder=30)\n",
    "if run_ANN: plt.semilogx(t_coordinates, numerical_solution_ann_model[:,1], '-', lw=4, color=color_ann, zorder=20)\n",
    "if run_KReg: plt.semilogx(t_coordinates, numerical_solution_kreg_model[:,1], '-', lw=5, color=color_kreg, zorder=10)\n",
    "\n",
    "plt.xlabel('Time, [$s$]', fontsize=20)\n",
    "plt.ylabel('$Z_{2}$', fontsize=20, rotation=0, horizontalalignment='right')\n",
    "plt.grid(alpha=0.3, zorder=1)\n",
    "plt.savefig(results_path + 'best-AE-a-posteriori-Z2-path.png', dpi=300, bbox_inches='tight')"
   ]
  },
  {
   "cell_type": "markdown",
   "metadata": {},
   "source": [
    "<a id='visualize-trajectories'></a>\n",
    "***\n",
    "\n",
    "## Visualize the transported trajectories\n",
    "\n",
    "[Go to the top ↑](#top-page)"
   ]
  },
  {
   "cell_type": "code",
   "execution_count": null,
   "metadata": {},
   "outputs": [],
   "source": [
    "if run_RBF:\n",
    "\n",
    "    numerical_solution_rbf_model_CS = (numerical_solution_rbf_model - center_AE) / scale_AE\n",
    "\n",
    "    plt = reduction.plot_2d_manifold(X_AE_CS[:,0],\n",
    "                                     X_AE_CS[:,1],\n",
    "                                     s=20,\n",
    "                                     color=S_AE[:,0],\n",
    "                                     color_map='inferno',\n",
    "                                     x_label='$Z_1$',\n",
    "                                     y_label='$Z_2$',\n",
    "                                     colorbar_label='$S_{Z, 1}$',\n",
    "                                     figure_size=(18,5));\n",
    "\n",
    "    plt.scatter(numerical_solution_rbf_model_CS[:,0], numerical_solution_rbf_model_CS[:,1], c=color_rbf, s=30, zorder=100)\n",
    "    plt.scatter(AE_state_space_test_trajectory_CS[:,0], AE_state_space_test_trajectory_CS[:,1], c='k', s=10, zorder=1);\n",
    "    plt.savefig(results_path + 'best-AE-RBF-transported-trajectory.png', dpi=300, bbox_inches='tight')"
   ]
  },
  {
   "cell_type": "code",
   "execution_count": null,
   "metadata": {},
   "outputs": [],
   "source": [
    "if run_GPR:\n",
    "\n",
    "    numerical_solution_gpr_model_CS = (numerical_solution_gpr_model - center_AE) / scale_AE\n",
    "\n",
    "    plt = reduction.plot_2d_manifold(X_AE_CS[:,0],\n",
    "                                     X_AE_CS[:,1],\n",
    "                                     s=20,\n",
    "                                     color=S_AE[:,0],\n",
    "                                     color_map='inferno',\n",
    "                                     x_label='$Z_1$',\n",
    "                                     y_label='$Z_2$',\n",
    "                                     colorbar_label='$S_{Z, 1}$',\n",
    "                                     figure_size=(18,5));\n",
    "\n",
    "    plt.scatter(numerical_solution_gpr_model_CS[:,0], numerical_solution_gpr_model_CS[:,1], c=color_gpr, s=30, zorder=100)\n",
    "    plt.scatter(AE_state_space_test_trajectory_CS[:,0], AE_state_space_test_trajectory_CS[:,1], c='k', s=10, zorder=1);\n",
    "    plt.savefig(results_path + 'best-AE-GPR-transported-trajectory.png', dpi=300, bbox_inches='tight')"
   ]
  },
  {
   "cell_type": "code",
   "execution_count": null,
   "metadata": {},
   "outputs": [],
   "source": [
    "if run_ANN:\n",
    "    \n",
    "    numerical_solution_ann_model_CS = (numerical_solution_ann_model - center_AE) / scale_AE\n",
    "\n",
    "    plt = reduction.plot_2d_manifold(X_AE_CS[:,0],\n",
    "                                     X_AE_CS[:,1],\n",
    "                                     s=20,\n",
    "                                     color=S_AE[:,0],\n",
    "                                     color_map='inferno',\n",
    "                                     x_label='$Z_1$',\n",
    "                                     y_label='$Z_2$',\n",
    "                                     colorbar_label='$S_{Z, 1}$',\n",
    "                                     figure_size=(18,5));\n",
    "\n",
    "    plt.scatter(numerical_solution_ann_model_CS[:,0], numerical_solution_ann_model_CS[:,1], c=color_ann, s=30, zorder=100)\n",
    "    plt.scatter(AE_state_space_test_trajectory_CS[:,0], AE_state_space_test_trajectory_CS[:,1], c='k', s=10, zorder=1);\n",
    "    plt.savefig(results_path + 'best-AE-ANN-transported-trajectory.png', dpi=300, bbox_inches='tight')"
   ]
  },
  {
   "cell_type": "code",
   "execution_count": null,
   "metadata": {},
   "outputs": [],
   "source": [
    "if run_KReg:\n",
    "    \n",
    "    numerical_solution_kreg_model_CS = (numerical_solution_kreg_model - center_AE) / scale_AE\n",
    "\n",
    "    plt = reduction.plot_2d_manifold(X_AE_CS[:,0],\n",
    "                                     X_AE_CS[:,1],\n",
    "                                     s=20,\n",
    "                                     color=S_AE[:,0],\n",
    "                                     color_map='inferno',\n",
    "                                     x_label='$Z_1$',\n",
    "                                     y_label='$Z_2$',\n",
    "                                     colorbar_label='$S_{Z, 1}$',\n",
    "                                     figure_size=(18,5));\n",
    "\n",
    "    plt.scatter(numerical_solution_kreg_model_CS[:,0], numerical_solution_kreg_model_CS[:,1], c=color_kreg, s=40, zorder=100)\n",
    "    plt.scatter(AE_state_space_test_trajectory_CS[:,0], AE_state_space_test_trajectory_CS[:,1], c='k', s=10, zorder=1);\n",
    "    plt.savefig(results_path + 'best-AE-KReg-transported-trajectory.png', dpi=300, bbox_inches='tight')"
   ]
  },
  {
   "cell_type": "markdown",
   "metadata": {},
   "source": [
    "<a id='visualize-source-terms'></a>\n",
    "\n",
    "***\n",
    "\n",
    "## Visualize the *a posteriori* predictions of the projected source terms\n",
    "\n",
    "[Go to the top ↑](#top-page)"
   ]
  },
  {
   "cell_type": "code",
   "execution_count": null,
   "metadata": {},
   "outputs": [],
   "source": [
    "plt.figure(figsize=(18,4))\n",
    "\n",
    "plt.semilogx(time_grid_test_trajectory, AE_source_terms_test_trajectory[:,0], 'k--', lw=5, zorder=5)\n",
    "plt.xlim([10**-4,10**-2])\n",
    "\n",
    "if run_RBF: plt.semilogx(t_coordinates, AE_source_terms_from_numerical_solution_rbf[:,0], '-', lw=2, color=color_rbf, zorder=40)\n",
    "if run_GPR: plt.semilogx(t_coordinates, AE_source_terms_from_numerical_solution_gpr[:,0], '-', lw=3, color=color_gpr, zorder=30)\n",
    "if run_ANN: plt.semilogx(t_coordinates, AE_source_terms_from_numerical_solution_ann[:,0], '-', lw=4, color=color_ann, zorder=20)\n",
    "if run_KReg: plt.semilogx(t_coordinates, AE_source_terms_from_numerical_solution_kreg[:,0], '-', lw=5, color=color_kreg, zorder=10)\n",
    "\n",
    "plt.xlabel('Time, [$s$]', fontsize=20)\n",
    "plt.ylabel('$S_{Z, 1}$', fontsize=20, rotation=0, horizontalalignment='right')\n",
    "plt.grid(alpha=0.3, zorder=1)\n",
    "plt.savefig(results_path + 'best-AE-a-posteriori-SZ1-prediction.png', dpi=300, bbox_inches='tight');"
   ]
  },
  {
   "cell_type": "code",
   "execution_count": null,
   "metadata": {},
   "outputs": [],
   "source": [
    "plt.figure(figsize=(18,4))\n",
    "\n",
    "plt.semilogx(time_grid_test_trajectory, AE_source_terms_test_trajectory[:,1], 'k--', lw=5, zorder=5)\n",
    "plt.xlim([10**-4,10**-2])\n",
    "\n",
    "if run_RBF: plt.semilogx(t_coordinates, AE_source_terms_from_numerical_solution_rbf[:,1], '-', lw=2, color=color_rbf, zorder=40)\n",
    "if run_GPR: plt.semilogx(t_coordinates, AE_source_terms_from_numerical_solution_gpr[:,1], '-', lw=3, color=color_gpr, zorder=30)\n",
    "if run_ANN: plt.semilogx(t_coordinates, AE_source_terms_from_numerical_solution_ann[:,1], '-', lw=4, color=color_ann, zorder=20)\n",
    "if run_KReg: plt.semilogx(t_coordinates, AE_source_terms_from_numerical_solution_kreg[:,1], '-', lw=5, color=color_kreg, zorder=10)\n",
    "\n",
    "plt.xlabel('Time, [$s$]', fontsize=20)\n",
    "plt.ylabel('$S_{Z, 2}$', fontsize=20, rotation=0, horizontalalignment='right')\n",
    "plt.grid(alpha=0.3, zorder=1)\n",
    "plt.savefig(results_path + 'best-AE-a-posteriori-SZ2-prediction.png', dpi=300, bbox_inches='tight');"
   ]
  },
  {
   "cell_type": "markdown",
   "metadata": {},
   "source": [
    "<a id='visualize-thermo-chemistry'></a>\n",
    "\n",
    "***\n",
    "\n",
    "## Visualize the predicted thermo-chemical state variables\n",
    "\n",
    "[Go to the top ↑](#top-page)"
   ]
  },
  {
   "cell_type": "code",
   "execution_count": null,
   "metadata": {},
   "outputs": [],
   "source": [
    "if reconstruct_thermochemistry:\n",
    "    \n",
    "    selected_state_variables = [0,1,2,3,4,5,6,7,8,9,10]\n",
    "    state_space_names_neat = ['$T$ [$K$]', '$Y_{H_2}$ [$-$]', '$Y_{O_2}$ [$-$]', '$Y_{O}$ [$-$]', '$Y_{OH}$ [$-$]', '$Y_{H_2O}$ [$-$]', '$Y_{H}$ [$-$]', '$Y_{HO_2}$ [$-$]', '$Y_{CO}$ [$-$]', '$Y_{CO_2}$ [$-$]', '$Y_{HCO}$ [$-$]']\n",
    "\n",
    "    figure = plt.figure(figsize=(25, 16))\n",
    "    spec = figure.add_gridspec(ncols=3, nrows=int(np.ceil(n_variables/3)), width_ratios=[1,1,1], height_ratios=[1 for i in range(0,int(np.ceil(n_variables/3)))])\n",
    "    for i in range(0,len(selected_state_variables)):\n",
    "        figure_a = figure.add_subplot(spec[int(np.floor(i/3)),i%3])\n",
    "        plt.semilogx(time_grid_test_trajectory, state_space_test_trajectory[:,selected_state_variables[i]], 'k--', lw=4, alpha=1, zorder=5, label='True test trajectory')\n",
    "\n",
    "        if run_RBF: plt.semilogx(t_coordinates, state_space_ROM_predicted_rbf[:,i], c=color_rbf, lw=2, zorder=40, label='RBF closure model')\n",
    "        if run_GPR: plt.semilogx(t_coordinates, state_space_ROM_predicted_gpr[:,i], c=color_gpr, lw=3, zorder=30, label='GPR closure model')\n",
    "        if run_ANN: plt.semilogx(t_coordinates, state_space_ROM_predicted_ann[:,i], c=color_ann, lw=4, zorder=20, label='ANN closure model')\n",
    "        if run_KReg: plt.semilogx(t_coordinates, state_space_ROM_predicted_kreg[:,i], c=color_kreg, lw=5, zorder=10, label='Kernel regression closure model')\n",
    "        plt.xlim([10**-4,10**-2])\n",
    "        plt.grid(alpha=0.3, zorder=1);\n",
    "        plt.ylabel(state_space_names_neat[selected_state_variables[i]], fontsize=20, rotation=90)\n",
    "        if i==len(selected_state_variables)-3: plt.xlabel('$t$ [$s$]', fontsize=20)\n",
    "        if i==len(selected_state_variables)-2: plt.xlabel('$t$ [$s$]', fontsize=20)\n",
    "        if i==len(selected_state_variables)-1: plt.xlabel('$t$ [$s$]', fontsize=20)\n",
    "        plt.gca().spines[\"top\"].set_visible(False)\n",
    "        plt.gca().spines[\"right\"].set_visible(False)\n",
    "\n",
    "        if i==len(selected_state_variables)-1: plt.legend(frameon=False, bbox_to_anchor=(2.2, 0.7), fontsize=20, ncol=1)\n",
    "\n",
    "    plt.savefig(results_path + 'best-AE-predicted-thermo-chemistry.png', dpi=300, bbox_inches='tight')"
   ]
  },
  {
   "cell_type": "markdown",
   "metadata": {},
   "source": [
    "<a id='assess-thermo-chemistry-prediction'></a>\n",
    "\n",
    "***\n",
    "\n",
    "## Assess the thermo-chemistry prediction\n",
    "\n",
    "#### The cells below will only work if the `t_coordinates` vector used in the PC-transport simulation is the same as the `time_grid` vector for that dataset.\n",
    "\n",
    "[Go to the top ↑](#top-page)"
   ]
  },
  {
   "cell_type": "code",
   "execution_count": null,
   "metadata": {},
   "outputs": [],
   "source": [
    "state_rbf_metrics = analysis.RegressionAssessment(state_space_test_trajectory[start_simulation::,selected_state_variables], state_space_ROM_predicted_rbf, variable_names=list(state_space_names[selected_state_variables]))\n",
    "state_rbf_metrics.print_metrics(table_format=['pandas'], float_format='.8f', metrics=['R2', 'MSLE', 'NRMSE'])"
   ]
  },
  {
   "cell_type": "code",
   "execution_count": null,
   "metadata": {},
   "outputs": [],
   "source": [
    "state_ann_metrics = analysis.RegressionAssessment(state_space_test_trajectory[start_simulation::,selected_state_variables], state_space_ROM_predicted_ann, variable_names=list(state_space_names[selected_state_variables]))\n",
    "state_ann_metrics.print_metrics(table_format=['pandas'], float_format='.8f', metrics=['R2', 'MSLE', 'NRMSE'], comparison=state_rbf_metrics)"
   ]
  },
  {
   "cell_type": "code",
   "execution_count": null,
   "metadata": {},
   "outputs": [],
   "source": [
    "state_kreg_metrics = analysis.RegressionAssessment(state_space_test_trajectory[start_simulation::,selected_state_variables], state_space_ROM_predicted_kreg, variable_names=list(state_space_names[selected_state_variables]))\n",
    "state_kreg_metrics.print_metrics(table_format=['pandas'], float_format='.8f', metrics=['R2', 'MSLE', 'NRMSE'], comparison=state_rbf_metrics)"
   ]
  },
  {
   "cell_type": "code",
   "execution_count": null,
   "metadata": {},
   "outputs": [],
   "source": [
    "state_gpr_metrics = analysis.RegressionAssessment(state_space_test_trajectory[start_simulation::,selected_state_variables], state_space_ROM_predicted_gpr, variable_names=list(state_space_names[selected_state_variables]))\n",
    "state_gpr_metrics.print_metrics(table_format=['pandas'], float_format='.8f', metrics=['R2', 'MSLE', 'NRMSE'], comparison=state_rbf_metrics)"
   ]
  },
  {
   "cell_type": "markdown",
   "metadata": {},
   "source": [
    "***"
   ]
  }
 ],
 "metadata": {
  "kernelspec": {
   "display_name": "Python 3",
   "language": "python",
   "name": "python3"
  },
  "language_info": {
   "codemirror_mode": {
    "name": "ipython",
    "version": 3
   },
   "file_extension": ".py",
   "mimetype": "text/x-python",
   "name": "python",
   "nbconvert_exporter": "python",
   "pygments_lexer": "ipython3",
   "version": "3.7.6"
  }
 },
 "nbformat": 4,
 "nbformat_minor": 4
}
